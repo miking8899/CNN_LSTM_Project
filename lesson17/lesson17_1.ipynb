{
 "cells": [
  {
   "cell_type": "code",
   "execution_count": 6,
   "metadata": {},
   "outputs": [
    {
     "name": "stdout",
     "output_type": "stream",
     "text": [
      "姓名:天母米樂金\n",
      "AGE:18\n",
      "Weight:68\n",
      "Hieght:170\n"
     ]
    }
   ],
   "source": [
    "class Person():\n",
    "    def __init__(self,name,age=18,weight=68,hieght=170):\n",
    "        self.name=name\n",
    "        self.age=age\n",
    "        self.weight=weight\n",
    "        self.hieght=hieght\n",
    "        \n",
    "    def describe(self):\n",
    "        print(f\"姓名:{self.name}\")\n",
    "        print(f\"AGE:{self.age}\")\n",
    "        print(f\"Weight:{self.weight}\")\n",
    "        print(f\"Hieght:{self.hieght}\")\n",
    "\n",
    "p1=Person('天母米樂金')\n",
    "\n",
    "p1.describe()\n",
    "\n"
   ]
  },
  {
   "cell_type": "code",
   "execution_count": 10,
   "metadata": {},
   "outputs": [
    {
     "name": "stdout",
     "output_type": "stream",
     "text": [
      "id:=668899\n",
      "姓名:米樂金\n",
      "AGE:18\n",
      "Weight:68\n",
      "Hieght:170\n"
     ]
    }
   ],
   "source": [
    "class Student(Person):\n",
    "    def __init__(self,name,id):\n",
    "        super().__init__(name)\n",
    "        \n",
    "        self.id=id\n",
    "    def describe(self):\n",
    "        print(f\"id:={self.id}\")\n",
    "        super().describe()\n",
    "        \n",
    "stud1=Student(name=\"米樂金\",id=\"668899\")\n",
    "stud1.describe()\n"
   ]
  }
 ],
 "metadata": {
  "kernelspec": {
   "display_name": "Python 3",
   "language": "python",
   "name": "python3"
  },
  "language_info": {
   "codemirror_mode": {
    "name": "ipython",
    "version": 3
   },
   "file_extension": ".py",
   "mimetype": "text/x-python",
   "name": "python",
   "nbconvert_exporter": "python",
   "pygments_lexer": "ipython3",
   "version": "3.10.8"
  }
 },
 "nbformat": 4,
 "nbformat_minor": 2
}
