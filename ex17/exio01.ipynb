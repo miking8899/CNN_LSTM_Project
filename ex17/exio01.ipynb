{
 "cells": [
  {
   "cell_type": "code",
   "execution_count": null,
   "metadata": {},
   "outputs": [],
   "source": [
    "text='python 中文'\n",
    "print(text,file=open('data.txt','w',encoding='utf-8'))\n",
    "print(text,file=open('data.txt','w'))\n"
   ]
  }
 ],
 "metadata": {
  "language_info": {
   "name": "python"
  }
 },
 "nbformat": 4,
 "nbformat_minor": 2
}
