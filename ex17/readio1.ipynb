{
 "cells": [
  {
   "cell_type": "code",
   "execution_count": null,
   "metadata": {},
   "outputs": [],
   "source": [
    "import csv\n",
    "import io \n",
    "\n",
    "f = open('新北市食品工廠清冊.csv','r',encoding='utf-8')\n",
    "rows = csv.reader(f)\n",
    "list1 = list(rows)\n",
    "firstColumn = [item[0] for item in list1]\n",
    "for item in firstColumn: print(item)\n",
    "f.close()"
   ]
  },
  {
   "cell_type": "code",
   "execution_count": null,
   "metadata": {},
   "outputs": [],
   "source": []
  },
  {
   "cell_type": "code",
   "execution_count": null,
   "metadata": {},
   "outputs": [],
   "source": [
    "list(rows)\n",
    "firstColumn = [item[0] for item in list1]\n",
    "for item in firstColumn: print(item)\n",
    "f.close()"
   ]
  }
 ],
 "metadata": {
  "language_info": {
   "name": "python"
  }
 },
 "nbformat": 4,
 "nbformat_minor": 2
}
